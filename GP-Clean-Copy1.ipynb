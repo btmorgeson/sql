{
 "cells": [
  {
   "cell_type": "code",
   "execution_count": 2,
   "metadata": {},
   "outputs": [],
   "source": [
    "import pandas as pd\n",
    "from sqlalchemy import create_engine"
   ]
  },
  {
   "cell_type": "code",
   "execution_count": 2,
   "metadata": {},
   "outputs": [],
   "source": [
    "df = pd.read_csv('Levels_Fyi_Salary_Data.csv')"
   ]
  },
  {
   "cell_type": "code",
   "execution_count": 3,
   "metadata": {},
   "outputs": [],
   "source": [
    "# Pass the connection string to a variable, conn_url\n",
    "conn_url = 'postgresql://postgres:('your password')@localhost/('your DB name')'\n",
    "\n",
    "# Create an engine that connects to PostgreSQL server\n",
    "engine = create_engine(conn_url)\n",
    "\n",
    "# Establish a connection\n",
    "connection = engine.connect()\n"
   ]
  },
  {
   "cell_type": "code",
   "execution_count": 4,
   "metadata": {},
   "outputs": [
    {
     "data": {
      "text/plain": [
       "<sqlalchemy.engine.cursor.LegacyCursorResult at 0x103e3ba00>"
      ]
     },
     "execution_count": 4,
     "metadata": {},
     "output_type": "execute_result"
    }
   ],
   "source": [
    "# Pass the SQL statements that create all tables\n",
    "stmt = \"\"\"\n",
    "create table employee(\n",
    "\temployee_id serial,\n",
    "\tbase_salary numeric(10,2),\n",
    "\tbonus_amount numeric(10,2),\n",
    "\tstock_value numeric(10,2),\n",
    "    totalyearlycompensation numeric(10,2),\n",
    "\ttimestamp timestamp NOT NULL,\n",
    "\tprimary key (employee_id)\n",
    ");\n",
    "\n",
    "create table company(\n",
    "\tcompany_id serial,\n",
    "\tcompany varchar(100) NOT NULL,\n",
    "\tprimary key (company_id)\n",
    ");\n",
    "\n",
    "create table location(\n",
    "\tlocation_id serial,\n",
    "\tlocation_city varchar(100),\n",
    "\tlocation_state varchar(100),\n",
    "    location_add1 varchar(100),\n",
    "    location_add2 varchar(100),\n",
    "\tprimary key (location_id)\n",
    ");\n",
    "\n",
    "create table employee_company(\n",
    "\temployee_id int,\n",
    "\tcompany_id int,\n",
    "\tlocation_id int,\n",
    "\tforeign key(employee_id) references employee,\n",
    "\tforeign key(company_id) references company,\n",
    "\tforeign key(location_id) references location,\n",
    "\tprimary key (employee_id, company_id, location_id)\n",
    ");\n",
    "\n",
    "create table specialization(\n",
    "\ttag_id serial,\n",
    "\ttag varchar(200),\n",
    "\tprimary key (tag_id)\n",
    ");\n",
    "\n",
    "create table employee_specialization(\n",
    "\temployee_id int,\n",
    "\ttag_id int,\n",
    "\tforeign key(employee_id) references employee,\n",
    "\tforeign key(tag_id) references specialization,\n",
    "\tprimary key(employee_id)\n",
    ");\n",
    "\n",
    "create table education(\n",
    "\teducation_id serial,\n",
    "\teducation varchar(50),\n",
    "\tprimary key(education_id)\n",
    ");\n",
    "\n",
    "create table employee_qualification(\n",
    "\temployee_id int,\n",
    "\teducation_id int,\n",
    "\tyears_at_company int NOT NULL,\n",
    "\tyears_experience int NOT NULL,\n",
    "\tforeign key(employee_id) references employee,\n",
    "\tforeign key(education_id) references education,\n",
    "\tprimary key(employee_id)\n",
    ");\n",
    "\n",
    "create table gender(\n",
    "\tgender varchar(10),\n",
    "\tcheck (gender \n",
    "\t\t\tin ('Male','Female', 'Other','Unknown')),\n",
    "\tprimary key(gender));\n",
    "    \n",
    "create table race(\n",
    "\trace varchar(50) primary key);\n",
    "    \n",
    "create table employee_demographics(\n",
    "\temployee_id int primary key,\n",
    "\tgender varchar(10),\n",
    "\trace varchar(50),\n",
    "\tforeign key(employee_id) references employee,\n",
    "\tforeign key(gender) references gender,\n",
    "\tforeign key(race) references race);\n",
    "\n",
    "create table level(\n",
    "\tlevel_id serial, \n",
    "\tlevel varchar(100),\n",
    "\tprimary key (level_id)\n",
    ");\n",
    "\n",
    "create table employee_level(\n",
    "\temployee_id int primary key,\n",
    "\tlevel_id int,\n",
    "\tforeign key(employee_id) references employee,\n",
    "\tforeign key(level_id) references level);\n",
    "\n",
    "create table title(\n",
    "\ttitle_id serial primary key,\n",
    "\ttitle varchar(100) NOT NULL);\n",
    "    \n",
    "create table employee_title(\n",
    "\temployee_id int primary key,\n",
    "\ttitle_id int NOT NULL,\n",
    "\tforeign key(employee_id) references employee,\n",
    "\tforeign key(title_id) references title);\n",
    "    \n",
    "create table other(\n",
    "\temployee_id int primary key,\n",
    "\tother_details varchar(1000),\n",
    "\tforeign key(employee_id) references employee);\n",
    "\n",
    "    \"\"\"\n",
    "\n",
    "connection.execute(stmt)"
   ]
  },
  {
   "cell_type": "code",
   "execution_count": null,
   "metadata": {},
   "outputs": [],
   "source": [
    "#load employee"
   ]
  },
  {
   "cell_type": "code",
   "execution_count": 5,
   "metadata": {},
   "outputs": [],
   "source": [
    "df.insert(0, 'employee_id', range(1, 1 + len(df)))"
   ]
  },
  {
   "cell_type": "code",
   "execution_count": 6,
   "metadata": {},
   "outputs": [],
   "source": [
    "employee_df=df[['employee_id','basesalary','bonus','stockgrantvalue','timestamp','totalyearlycompensation']]"
   ]
  },
  {
   "cell_type": "code",
   "execution_count": 7,
   "metadata": {},
   "outputs": [],
   "source": [
    "employee_df=employee_df.rename(columns={'basesalary':'base_salary','stockgrantvalue':'stock_value','bonus':'bonus_amount'})"
   ]
  },
  {
   "cell_type": "code",
   "execution_count": 8,
   "metadata": {},
   "outputs": [],
   "source": [
    "employee_df.to_sql(name='employee', con=engine, if_exists='append', index=False)"
   ]
  },
  {
   "cell_type": "code",
   "execution_count": 9,
   "metadata": {},
   "outputs": [],
   "source": [
    "#load company"
   ]
  },
  {
   "cell_type": "code",
   "execution_count": 10,
   "metadata": {},
   "outputs": [],
   "source": [
    "temp_company_df = pd.DataFrame(df.company.unique(), columns=['company'])\n",
    "temp_company_df['company']=temp_company_df['company'].fillna(\"Unknown\")\n",
    "temp_company_df.insert(0, 'company_id', range(1, 1 + len(temp_company_df)))"
   ]
  },
  {
   "cell_type": "code",
   "execution_count": 11,
   "metadata": {},
   "outputs": [],
   "source": [
    "temp_company_df.to_sql(name='company', con=engine, if_exists='append', index=False)"
   ]
  },
  {
   "cell_type": "code",
   "execution_count": 12,
   "metadata": {},
   "outputs": [],
   "source": [
    "#map company id"
   ]
  },
  {
   "cell_type": "code",
   "execution_count": 13,
   "metadata": {},
   "outputs": [],
   "source": [
    "df['company']=df['company'].fillna(\"Unknown\")"
   ]
  },
  {
   "cell_type": "code",
   "execution_count": 14,
   "metadata": {},
   "outputs": [],
   "source": [
    "# Map genre_id\n",
    "genre_id_list = [temp_company_df.company_id[temp_company_df.company == i].values[0] for i in df.company]"
   ]
  },
  {
   "cell_type": "code",
   "execution_count": 15,
   "metadata": {},
   "outputs": [],
   "source": [
    "# Add movie_id to the main dataframe\n",
    "df.insert(4, 'company_id', genre_id_list)"
   ]
  },
  {
   "cell_type": "code",
   "execution_count": 16,
   "metadata": {},
   "outputs": [],
   "source": [
    "#load location"
   ]
  },
  {
   "cell_type": "code",
   "execution_count": 17,
   "metadata": {},
   "outputs": [],
   "source": [
    "df_cs=df['location'].str.split(',', expand=True)"
   ]
  },
  {
   "cell_type": "code",
   "execution_count": 18,
   "metadata": {},
   "outputs": [],
   "source": [
    "df_cs.columns=['location_city','location_state','location_add1','location_add2']"
   ]
  },
  {
   "cell_type": "code",
   "execution_count": 19,
   "metadata": {},
   "outputs": [],
   "source": [
    "df_cs=df_cs.drop_duplicates()"
   ]
  },
  {
   "cell_type": "code",
   "execution_count": 20,
   "metadata": {},
   "outputs": [],
   "source": [
    "df_cs['location_state'] = df_cs['location_state'].str.strip()"
   ]
  },
  {
   "cell_type": "code",
   "execution_count": 21,
   "metadata": {},
   "outputs": [],
   "source": [
    "df_cs['location_add1'] = df_cs['location_add1'].str.strip()"
   ]
  },
  {
   "cell_type": "code",
   "execution_count": 22,
   "metadata": {},
   "outputs": [],
   "source": [
    "df_cs['location_add2'] = df_cs['location_add2'].str.strip()"
   ]
  },
  {
   "cell_type": "code",
   "execution_count": 23,
   "metadata": {},
   "outputs": [],
   "source": [
    "df_cs.insert(0, 'location_id', range(1, 1 + len(df_cs)))"
   ]
  },
  {
   "cell_type": "code",
   "execution_count": 24,
   "metadata": {},
   "outputs": [],
   "source": [
    "df_cs.to_sql(name='location', con=engine, if_exists='append', index=False)"
   ]
  },
  {
   "cell_type": "code",
   "execution_count": 26,
   "metadata": {},
   "outputs": [],
   "source": [
    "#map location id"
   ]
  },
  {
   "cell_type": "code",
   "execution_count": 27,
   "metadata": {},
   "outputs": [],
   "source": [
    "df_cs=df['location']"
   ]
  },
  {
   "cell_type": "code",
   "execution_count": 28,
   "metadata": {},
   "outputs": [],
   "source": [
    "df_cs=df_cs.drop_duplicates()"
   ]
  },
  {
   "cell_type": "code",
   "execution_count": 29,
   "metadata": {},
   "outputs": [],
   "source": [
    "df_cs.columns=['location']"
   ]
  },
  {
   "cell_type": "code",
   "execution_count": 30,
   "metadata": {},
   "outputs": [],
   "source": [
    "df_cs=pd.DataFrame(df_cs)"
   ]
  },
  {
   "cell_type": "code",
   "execution_count": 31,
   "metadata": {},
   "outputs": [],
   "source": [
    "df_cs.insert(0, 'location_id', range(1, 1 + len(df_cs)))"
   ]
  },
  {
   "cell_type": "code",
   "execution_count": 32,
   "metadata": {},
   "outputs": [],
   "source": [
    "df = pd.merge(df, df_cs, left_on=['location'], right_on = ['location'])"
   ]
  },
  {
   "cell_type": "code",
   "execution_count": 33,
   "metadata": {},
   "outputs": [],
   "source": [
    "df=df.sort_values(by=['employee_id'])"
   ]
  },
  {
   "cell_type": "code",
   "execution_count": 34,
   "metadata": {},
   "outputs": [],
   "source": [
    "#employee_company"
   ]
  },
  {
   "cell_type": "code",
   "execution_count": 35,
   "metadata": {},
   "outputs": [],
   "source": [
    "employee_company_df=df[['employee_id','company_id','location_id']]"
   ]
  },
  {
   "cell_type": "code",
   "execution_count": 36,
   "metadata": {},
   "outputs": [],
   "source": [
    "employee_company_df.to_sql(name='employee_company', con=engine, if_exists='append', index=False)"
   ]
  },
  {
   "cell_type": "code",
   "execution_count": 37,
   "metadata": {},
   "outputs": [],
   "source": [
    "# specialization"
   ]
  },
  {
   "cell_type": "code",
   "execution_count": 38,
   "metadata": {},
   "outputs": [],
   "source": [
    "specialization_df = pd.DataFrame(df.tag.unique(), columns=['tag'])\n",
    "specialization_df['tag']=specialization_df['tag'].fillna(\"Unknown\")\n",
    "specialization_df.insert(0, 'tag_id', range(1, 1 + len(specialization_df)))"
   ]
  },
  {
   "cell_type": "code",
   "execution_count": 39,
   "metadata": {},
   "outputs": [],
   "source": [
    "specialization_df.to_sql(name='specialization', con=engine, if_exists='append', index=False)"
   ]
  },
  {
   "cell_type": "code",
   "execution_count": 40,
   "metadata": {},
   "outputs": [],
   "source": [
    "#map specialization"
   ]
  },
  {
   "cell_type": "code",
   "execution_count": 41,
   "metadata": {},
   "outputs": [],
   "source": [
    "df['tag']=df['tag'].fillna(\"Unknown\")"
   ]
  },
  {
   "cell_type": "code",
   "execution_count": 42,
   "metadata": {},
   "outputs": [],
   "source": [
    "genre_id_list = [specialization_df.tag_id[specialization_df.tag == i].values[0] for i in df.tag]"
   ]
  },
  {
   "cell_type": "code",
   "execution_count": 43,
   "metadata": {},
   "outputs": [],
   "source": [
    "df.insert(1, 'tag_id', genre_id_list)"
   ]
  },
  {
   "cell_type": "code",
   "execution_count": 44,
   "metadata": {},
   "outputs": [],
   "source": [
    "#employee_specialization"
   ]
  },
  {
   "cell_type": "code",
   "execution_count": 45,
   "metadata": {},
   "outputs": [],
   "source": [
    "employee_specialization_df=df[['employee_id','tag_id']]\n",
    "employee_specialization_df.to_sql(name='employee_specialization', con=engine, if_exists='append', index=False)"
   ]
  },
  {
   "cell_type": "code",
   "execution_count": 46,
   "metadata": {},
   "outputs": [],
   "source": [
    "#education"
   ]
  },
  {
   "cell_type": "code",
   "execution_count": 47,
   "metadata": {},
   "outputs": [],
   "source": [
    "education_df = pd.DataFrame(df.Education.unique(), columns=['Education'])\n",
    "education_df['Education']=education_df['Education'].fillna(\"Unknown\")\n",
    "education_df.insert(0, 'education_id', range(1, 1 + len(education_df)))\n"
   ]
  },
  {
   "cell_type": "code",
   "execution_count": 48,
   "metadata": {},
   "outputs": [],
   "source": [
    "education_df=education_df.rename(columns={'Education':'education'})"
   ]
  },
  {
   "cell_type": "code",
   "execution_count": 50,
   "metadata": {},
   "outputs": [],
   "source": [
    "education_df.to_sql(name='education', con=engine, if_exists='append', index=False)"
   ]
  },
  {
   "cell_type": "code",
   "execution_count": 51,
   "metadata": {},
   "outputs": [],
   "source": [
    "#map education"
   ]
  },
  {
   "cell_type": "code",
   "execution_count": 52,
   "metadata": {},
   "outputs": [],
   "source": [
    "df['Education']=df['Education'].fillna(\"Unknown\")\n",
    "genre_id_list = [education_df.education_id[education_df.education == i].values[0] for i in df.Education]\n",
    "df.insert(1, 'education_id', genre_id_list)"
   ]
  },
  {
   "cell_type": "code",
   "execution_count": 53,
   "metadata": {},
   "outputs": [],
   "source": [
    "#employee_qualification"
   ]
  },
  {
   "cell_type": "code",
   "execution_count": 54,
   "metadata": {},
   "outputs": [],
   "source": [
    "employee_qualification_df=df[['employee_id','education_id','yearsofexperience','yearsatcompany']]\n",
    "employee_qualification_df=employee_qualification_df.rename(columns={'yearsofexperience':'years_experience','yearsatcompany':'years_at_company'})\n",
    "employee_qualification_df.to_sql(name='employee_qualification', con=engine, if_exists='append', index=False)"
   ]
  },
  {
   "cell_type": "code",
   "execution_count": 55,
   "metadata": {},
   "outputs": [],
   "source": [
    "#gender"
   ]
  },
  {
   "cell_type": "code",
   "execution_count": 56,
   "metadata": {},
   "outputs": [],
   "source": [
    "df['gender']=df['gender'].replace(['Title: Senior Software Engineer'],'Unknown')\n",
    "df['gender']=df['gender'].fillna(\"Unknown\")"
   ]
  },
  {
   "cell_type": "code",
   "execution_count": 57,
   "metadata": {},
   "outputs": [],
   "source": [
    "gender_df = pd.DataFrame(df.gender.unique(), columns=['gender'])"
   ]
  },
  {
   "cell_type": "code",
   "execution_count": 58,
   "metadata": {},
   "outputs": [],
   "source": [
    "gender_df.to_sql(name='gender', con=engine, if_exists='append', index=False)"
   ]
  },
  {
   "cell_type": "code",
   "execution_count": 59,
   "metadata": {},
   "outputs": [],
   "source": [
    "#race"
   ]
  },
  {
   "cell_type": "code",
   "execution_count": 60,
   "metadata": {},
   "outputs": [],
   "source": [
    "df['Race']=df['Race'].fillna(\"Unknown\")"
   ]
  },
  {
   "cell_type": "code",
   "execution_count": 61,
   "metadata": {},
   "outputs": [],
   "source": [
    "race_df = pd.DataFrame(df.Race.unique(), columns=['Race'])"
   ]
  },
  {
   "cell_type": "code",
   "execution_count": 62,
   "metadata": {},
   "outputs": [],
   "source": [
    "race_df=race_df.rename(columns={'Race':'race'})\n",
    "race_df.to_sql(name='race', con=engine, if_exists='append', index=False)"
   ]
  },
  {
   "cell_type": "code",
   "execution_count": 63,
   "metadata": {},
   "outputs": [],
   "source": [
    "#employee_demographics"
   ]
  },
  {
   "cell_type": "code",
   "execution_count": 64,
   "metadata": {},
   "outputs": [],
   "source": [
    "employee_demographics=df[['employee_id','gender','Race']]"
   ]
  },
  {
   "cell_type": "code",
   "execution_count": 65,
   "metadata": {},
   "outputs": [],
   "source": [
    "employee_demographics=employee_demographics.rename(columns={'Race':'race'})\n",
    "employee_demographics.to_sql(name='employee_demographics', con=engine, if_exists='append', index=False)"
   ]
  },
  {
   "cell_type": "code",
   "execution_count": 66,
   "metadata": {},
   "outputs": [],
   "source": [
    "#level"
   ]
  },
  {
   "cell_type": "code",
   "execution_count": 67,
   "metadata": {},
   "outputs": [],
   "source": [
    "level_df = pd.DataFrame(df.level.unique(), columns=['level'])\n",
    "level_df['level']=level_df['level'].fillna(\"Unknown\")\n",
    "level_df.insert(0, 'level_id', range(1, 1 + len(level_df)))"
   ]
  },
  {
   "cell_type": "code",
   "execution_count": 68,
   "metadata": {},
   "outputs": [],
   "source": [
    "level_df.to_sql(name='level', con=engine, if_exists='append', index=False)"
   ]
  },
  {
   "cell_type": "code",
   "execution_count": 69,
   "metadata": {},
   "outputs": [],
   "source": [
    "#map level"
   ]
  },
  {
   "cell_type": "code",
   "execution_count": 70,
   "metadata": {},
   "outputs": [],
   "source": [
    "df['level']=df['level'].fillna(\"Unknown\")\n",
    "genre_id_list = [level_df.level_id[level_df.level == i].values[0] for i in df.level]\n",
    "df.insert(1, 'level_id', genre_id_list)"
   ]
  },
  {
   "cell_type": "code",
   "execution_count": 71,
   "metadata": {},
   "outputs": [],
   "source": [
    "#employee_level"
   ]
  },
  {
   "cell_type": "code",
   "execution_count": 72,
   "metadata": {},
   "outputs": [],
   "source": [
    "employee_level=df[['employee_id','level_id']]"
   ]
  },
  {
   "cell_type": "code",
   "execution_count": 73,
   "metadata": {},
   "outputs": [],
   "source": [
    "employee_level.to_sql(name='employee_level', con=engine, if_exists='append', index=False)"
   ]
  },
  {
   "cell_type": "code",
   "execution_count": 74,
   "metadata": {},
   "outputs": [],
   "source": [
    "#title"
   ]
  },
  {
   "cell_type": "code",
   "execution_count": 75,
   "metadata": {},
   "outputs": [],
   "source": [
    "title_df = pd.DataFrame(df.title.unique(), columns=['title'])\n",
    "title_df['title']=title_df['title'].fillna(\"Unknown\")\n",
    "title_df.insert(0, 'title_id', range(1, 1 + len(title_df)))"
   ]
  },
  {
   "cell_type": "code",
   "execution_count": 76,
   "metadata": {},
   "outputs": [],
   "source": [
    "title_df.to_sql(name='title', con=engine, if_exists='append', index=False)"
   ]
  },
  {
   "cell_type": "code",
   "execution_count": 77,
   "metadata": {},
   "outputs": [],
   "source": [
    "#map title"
   ]
  },
  {
   "cell_type": "code",
   "execution_count": 78,
   "metadata": {},
   "outputs": [],
   "source": [
    "df['title']=df['title'].fillna(\"Unknown\")\n",
    "genre_id_list = [title_df.title_id[title_df.title == i].values[0] for i in df.title]\n",
    "df.insert(1, 'title_id', genre_id_list)"
   ]
  },
  {
   "cell_type": "code",
   "execution_count": 79,
   "metadata": {},
   "outputs": [],
   "source": [
    "#employee_title"
   ]
  },
  {
   "cell_type": "code",
   "execution_count": 80,
   "metadata": {},
   "outputs": [],
   "source": [
    "employee_title=df[['employee_id','title_id']]"
   ]
  },
  {
   "cell_type": "code",
   "execution_count": 81,
   "metadata": {},
   "outputs": [],
   "source": [
    "employee_title.to_sql(name='employee_title', con=engine, if_exists='append', index=False)"
   ]
  },
  {
   "cell_type": "code",
   "execution_count": 82,
   "metadata": {},
   "outputs": [],
   "source": [
    "#other"
   ]
  },
  {
   "cell_type": "code",
   "execution_count": 83,
   "metadata": {},
   "outputs": [],
   "source": [
    "other=df[['employee_id','otherdetails']]"
   ]
  },
  {
   "cell_type": "code",
   "execution_count": 84,
   "metadata": {},
   "outputs": [],
   "source": [
    "other=other.rename(columns={'otherdetails':'other_details'})"
   ]
  },
  {
   "cell_type": "code",
   "execution_count": 85,
   "metadata": {},
   "outputs": [],
   "source": [
    "other.to_sql(name='other', con=engine, if_exists='append', index=False)"
   ]
  },
  {
   "cell_type": "code",
   "execution_count": null,
   "metadata": {},
   "outputs": [],
   "source": [
    "#1 Average salary by company"
   ]
  },
  {
   "cell_type": "code",
   "execution_count": 10,
   "metadata": {},
   "outputs": [
    {
     "data": {
      "text/html": [
       "<div>\n",
       "<style scoped>\n",
       "    .dataframe tbody tr th:only-of-type {\n",
       "        vertical-align: middle;\n",
       "    }\n",
       "\n",
       "    .dataframe tbody tr th {\n",
       "        vertical-align: top;\n",
       "    }\n",
       "\n",
       "    .dataframe thead th {\n",
       "        text-align: right;\n",
       "    }\n",
       "</style>\n",
       "<table border=\"1\" class=\"dataframe\">\n",
       "  <thead>\n",
       "    <tr style=\"text-align: right;\">\n",
       "      <th></th>\n",
       "      <th>avg_salary</th>\n",
       "      <th>company</th>\n",
       "    </tr>\n",
       "  </thead>\n",
       "  <tbody>\n",
       "    <tr>\n",
       "      <th>0</th>\n",
       "      <td>1483000.000000000000</td>\n",
       "      <td>Coupa software</td>\n",
       "    </tr>\n",
       "    <tr>\n",
       "      <th>1</th>\n",
       "      <td>700000.000000000000</td>\n",
       "      <td>Cloudkitchens</td>\n",
       "    </tr>\n",
       "    <tr>\n",
       "      <th>2</th>\n",
       "      <td>680000.000000000000</td>\n",
       "      <td>amplitude</td>\n",
       "    </tr>\n",
       "    <tr>\n",
       "      <th>3</th>\n",
       "      <td>593500.000000000000</td>\n",
       "      <td>Doordash</td>\n",
       "    </tr>\n",
       "    <tr>\n",
       "      <th>4</th>\n",
       "      <td>539000.000000000000</td>\n",
       "      <td>synaptics</td>\n",
       "    </tr>\n",
       "    <tr>\n",
       "      <th>...</th>\n",
       "      <td>...</td>\n",
       "      <td>...</td>\n",
       "    </tr>\n",
       "    <tr>\n",
       "      <th>1627</th>\n",
       "      <td>15000.0000000000000000</td>\n",
       "      <td>verkada</td>\n",
       "    </tr>\n",
       "    <tr>\n",
       "      <th>1628</th>\n",
       "      <td>14000.0000000000000000</td>\n",
       "      <td>Nice</td>\n",
       "    </tr>\n",
       "    <tr>\n",
       "      <th>1629</th>\n",
       "      <td>13000.0000000000000000</td>\n",
       "      <td>TATA Consultancy Services</td>\n",
       "    </tr>\n",
       "    <tr>\n",
       "      <th>1630</th>\n",
       "      <td>12600.000000000000</td>\n",
       "      <td>Bukalapak</td>\n",
       "    </tr>\n",
       "    <tr>\n",
       "      <th>1631</th>\n",
       "      <td>10000.0000000000000000</td>\n",
       "      <td>ZS associates</td>\n",
       "    </tr>\n",
       "  </tbody>\n",
       "</table>\n",
       "<p>1632 rows × 2 columns</p>\n",
       "</div>"
      ],
      "text/plain": [
       "                  avg_salary                    company\n",
       "0       1483000.000000000000             Coupa software\n",
       "1        700000.000000000000              Cloudkitchens\n",
       "2        680000.000000000000                  amplitude\n",
       "3        593500.000000000000                   Doordash\n",
       "4        539000.000000000000                  synaptics\n",
       "...                      ...                        ...\n",
       "1627  15000.0000000000000000                    verkada\n",
       "1628  14000.0000000000000000                       Nice\n",
       "1629  13000.0000000000000000  TATA Consultancy Services\n",
       "1630      12600.000000000000                  Bukalapak\n",
       "1631  10000.0000000000000000              ZS associates\n",
       "\n",
       "[1632 rows x 2 columns]"
      ]
     },
     "execution_count": 10,
     "metadata": {},
     "output_type": "execute_result"
    }
   ],
   "source": [
    "# Pass the SQL statement to filter data\n",
    "stmt = \"\"\"\n",
    "\n",
    "select avg(totalyearlycompensation)as Avg_salary,company from employee,employee_company,company\n",
    "where employee.employee_id = employee_company.employee_id and company.company_id = employee_company.company_id\n",
    "group by company order by Avg_salary DESC\n",
    "\n",
    "\"\"\"\n",
    "\n",
    "# Execute the statement and get the results\n",
    "results = connection.execute(stmt).fetchall()\n",
    "\n",
    "# Extract column names\n",
    "column_names = results[0].keys()\n",
    "\n",
    "# Store results in a new dataframe\n",
    "temp_df = pd.DataFrame(results, columns=column_names)\n",
    "\n",
    "# Show results\n",
    "temp_df"
   ]
  },
  {
   "cell_type": "code",
   "execution_count": null,
   "metadata": {},
   "outputs": [],
   "source": [
    "#2 Average salary by job title"
   ]
  },
  {
   "cell_type": "code",
   "execution_count": 9,
   "metadata": {},
   "outputs": [
    {
     "data": {
      "text/html": [
       "<div>\n",
       "<style scoped>\n",
       "    .dataframe tbody tr th:only-of-type {\n",
       "        vertical-align: middle;\n",
       "    }\n",
       "\n",
       "    .dataframe tbody tr th {\n",
       "        vertical-align: top;\n",
       "    }\n",
       "\n",
       "    .dataframe thead th {\n",
       "        text-align: right;\n",
       "    }\n",
       "</style>\n",
       "<table border=\"1\" class=\"dataframe\">\n",
       "  <thead>\n",
       "    <tr style=\"text-align: right;\">\n",
       "      <th></th>\n",
       "      <th>avg_salary</th>\n",
       "      <th>title</th>\n",
       "    </tr>\n",
       "  </thead>\n",
       "  <tbody>\n",
       "    <tr>\n",
       "      <th>0</th>\n",
       "      <td>354635.752311571869</td>\n",
       "      <td>Software Engineering Manager</td>\n",
       "    </tr>\n",
       "    <tr>\n",
       "      <th>1</th>\n",
       "      <td>257813.396105285684</td>\n",
       "      <td>Product Manager</td>\n",
       "    </tr>\n",
       "    <tr>\n",
       "      <th>2</th>\n",
       "      <td>237099.927588703838</td>\n",
       "      <td>Technical Program Manager</td>\n",
       "    </tr>\n",
       "    <tr>\n",
       "      <th>3</th>\n",
       "      <td>214273.318872017354</td>\n",
       "      <td>Sales</td>\n",
       "    </tr>\n",
       "    <tr>\n",
       "      <th>4</th>\n",
       "      <td>213655.000000000000</td>\n",
       "      <td>Hardware Engineer</td>\n",
       "    </tr>\n",
       "    <tr>\n",
       "      <th>5</th>\n",
       "      <td>212736.387208297321</td>\n",
       "      <td>Solution Architect</td>\n",
       "    </tr>\n",
       "    <tr>\n",
       "      <th>6</th>\n",
       "      <td>207637.203166226913</td>\n",
       "      <td>Product Designer</td>\n",
       "    </tr>\n",
       "    <tr>\n",
       "      <th>7</th>\n",
       "      <td>205403.992287356601</td>\n",
       "      <td>Software Engineer</td>\n",
       "    </tr>\n",
       "    <tr>\n",
       "      <th>8</th>\n",
       "      <td>203656.710628394104</td>\n",
       "      <td>Data Scientist</td>\n",
       "    </tr>\n",
       "    <tr>\n",
       "      <th>9</th>\n",
       "      <td>198971.830985915493</td>\n",
       "      <td>Marketing</td>\n",
       "    </tr>\n",
       "    <tr>\n",
       "      <th>10</th>\n",
       "      <td>178711.538461538462</td>\n",
       "      <td>Human Resources</td>\n",
       "    </tr>\n",
       "    <tr>\n",
       "      <th>11</th>\n",
       "      <td>162795.081967213115</td>\n",
       "      <td>Management Consultant</td>\n",
       "    </tr>\n",
       "    <tr>\n",
       "      <th>12</th>\n",
       "      <td>158442.857142857143</td>\n",
       "      <td>Mechanical Engineer</td>\n",
       "    </tr>\n",
       "    <tr>\n",
       "      <th>13</th>\n",
       "      <td>155580.931263858093</td>\n",
       "      <td>Recruiter</td>\n",
       "    </tr>\n",
       "    <tr>\n",
       "      <th>14</th>\n",
       "      <td>129727.683615819209</td>\n",
       "      <td>Business Analyst</td>\n",
       "    </tr>\n",
       "  </tbody>\n",
       "</table>\n",
       "</div>"
      ],
      "text/plain": [
       "             avg_salary                         title\n",
       "0   354635.752311571869  Software Engineering Manager\n",
       "1   257813.396105285684               Product Manager\n",
       "2   237099.927588703838     Technical Program Manager\n",
       "3   214273.318872017354                         Sales\n",
       "4   213655.000000000000             Hardware Engineer\n",
       "5   212736.387208297321            Solution Architect\n",
       "6   207637.203166226913              Product Designer\n",
       "7   205403.992287356601             Software Engineer\n",
       "8   203656.710628394104                Data Scientist\n",
       "9   198971.830985915493                     Marketing\n",
       "10  178711.538461538462               Human Resources\n",
       "11  162795.081967213115         Management Consultant\n",
       "12  158442.857142857143           Mechanical Engineer\n",
       "13  155580.931263858093                     Recruiter\n",
       "14  129727.683615819209              Business Analyst"
      ]
     },
     "execution_count": 9,
     "metadata": {},
     "output_type": "execute_result"
    }
   ],
   "source": [
    "# Pass the SQL statement to filter data\n",
    "stmt = \"\"\"\n",
    "\n",
    "select avg(totalyearlycompensation)as Avg_salary,title from employee,employee_title,title\n",
    "where employee.employee_id = employee_title.employee_id and title.title_id = employee_title.title_id\n",
    "group by title order by Avg_salary DESC\n",
    "\n",
    "\n",
    "\"\"\"\n",
    "\n",
    "# Execute the statement and get the results\n",
    "results1 = connection.execute(stmt).fetchall()\n",
    "\n",
    "# Extract column names\n",
    "column_names = results1[0].keys()\n",
    "\n",
    "# Store results in a new dataframe\n",
    "temp_df1 = pd.DataFrame(results1, columns=column_names)\n",
    "\n",
    "# Show results\n",
    "temp_df1"
   ]
  },
  {
   "cell_type": "code",
   "execution_count": null,
   "metadata": {},
   "outputs": [],
   "source": [
    "#3 Average salary by city"
   ]
  },
  {
   "cell_type": "code",
   "execution_count": 8,
   "metadata": {},
   "outputs": [
    {
     "data": {
      "text/html": [
       "<div>\n",
       "<style scoped>\n",
       "    .dataframe tbody tr th:only-of-type {\n",
       "        vertical-align: middle;\n",
       "    }\n",
       "\n",
       "    .dataframe tbody tr th {\n",
       "        vertical-align: top;\n",
       "    }\n",
       "\n",
       "    .dataframe thead th {\n",
       "        text-align: right;\n",
       "    }\n",
       "</style>\n",
       "<table border=\"1\" class=\"dataframe\">\n",
       "  <thead>\n",
       "    <tr style=\"text-align: right;\">\n",
       "      <th></th>\n",
       "      <th>avg_salary</th>\n",
       "      <th>location_city</th>\n",
       "    </tr>\n",
       "  </thead>\n",
       "  <tbody>\n",
       "    <tr>\n",
       "      <th>0</th>\n",
       "      <td>650000.000000000000</td>\n",
       "      <td>Aspen</td>\n",
       "    </tr>\n",
       "    <tr>\n",
       "      <th>1</th>\n",
       "      <td>605000.000000000000</td>\n",
       "      <td>Chapel Hill</td>\n",
       "    </tr>\n",
       "    <tr>\n",
       "      <th>2</th>\n",
       "      <td>480000.000000000000</td>\n",
       "      <td>Highland Park</td>\n",
       "    </tr>\n",
       "    <tr>\n",
       "      <th>3</th>\n",
       "      <td>479185.840707964602</td>\n",
       "      <td>Los Gatos</td>\n",
       "    </tr>\n",
       "    <tr>\n",
       "      <th>4</th>\n",
       "      <td>444000.000000000000</td>\n",
       "      <td>Wimborne Minster</td>\n",
       "    </tr>\n",
       "    <tr>\n",
       "      <th>5</th>\n",
       "      <td>436000.000000000000</td>\n",
       "      <td>Los Altos</td>\n",
       "    </tr>\n",
       "    <tr>\n",
       "      <th>6</th>\n",
       "      <td>390000.000000000000</td>\n",
       "      <td>Nazareth Illit</td>\n",
       "    </tr>\n",
       "    <tr>\n",
       "      <th>7</th>\n",
       "      <td>388000.000000000000</td>\n",
       "      <td>Sammamish</td>\n",
       "    </tr>\n",
       "    <tr>\n",
       "      <th>8</th>\n",
       "      <td>380000.000000000000</td>\n",
       "      <td>Ellicott City</td>\n",
       "    </tr>\n",
       "    <tr>\n",
       "      <th>9</th>\n",
       "      <td>380000.000000000000</td>\n",
       "      <td>Menomonie</td>\n",
       "    </tr>\n",
       "    <tr>\n",
       "      <th>10</th>\n",
       "      <td>375000.000000000000</td>\n",
       "      <td>Worcester</td>\n",
       "    </tr>\n",
       "    <tr>\n",
       "      <th>11</th>\n",
       "      <td>365924.652777777778</td>\n",
       "      <td>Menlo Park</td>\n",
       "    </tr>\n",
       "    <tr>\n",
       "      <th>12</th>\n",
       "      <td>355000.000000000000</td>\n",
       "      <td>Palm Springs</td>\n",
       "    </tr>\n",
       "    <tr>\n",
       "      <th>13</th>\n",
       "      <td>345000.000000000000</td>\n",
       "      <td>West Hollywood</td>\n",
       "    </tr>\n",
       "    <tr>\n",
       "      <th>14</th>\n",
       "      <td>324000.000000000000</td>\n",
       "      <td>Somerville</td>\n",
       "    </tr>\n",
       "    <tr>\n",
       "      <th>15</th>\n",
       "      <td>322500.000000000000</td>\n",
       "      <td>New City</td>\n",
       "    </tr>\n",
       "    <tr>\n",
       "      <th>16</th>\n",
       "      <td>320000.000000000000</td>\n",
       "      <td>Thornton</td>\n",
       "    </tr>\n",
       "    <tr>\n",
       "      <th>17</th>\n",
       "      <td>301000.000000000000</td>\n",
       "      <td>Kaneohe</td>\n",
       "    </tr>\n",
       "    <tr>\n",
       "      <th>18</th>\n",
       "      <td>300000.000000000000</td>\n",
       "      <td>La Jolla</td>\n",
       "    </tr>\n",
       "    <tr>\n",
       "      <th>19</th>\n",
       "      <td>300000.000000000000</td>\n",
       "      <td>Paterson</td>\n",
       "    </tr>\n",
       "  </tbody>\n",
       "</table>\n",
       "</div>"
      ],
      "text/plain": [
       "             avg_salary     location_city\n",
       "0   650000.000000000000             Aspen\n",
       "1   605000.000000000000       Chapel Hill\n",
       "2   480000.000000000000     Highland Park\n",
       "3   479185.840707964602         Los Gatos\n",
       "4   444000.000000000000  Wimborne Minster\n",
       "5   436000.000000000000         Los Altos\n",
       "6   390000.000000000000    Nazareth Illit\n",
       "7   388000.000000000000         Sammamish\n",
       "8   380000.000000000000     Ellicott City\n",
       "9   380000.000000000000         Menomonie\n",
       "10  375000.000000000000         Worcester\n",
       "11  365924.652777777778        Menlo Park\n",
       "12  355000.000000000000      Palm Springs\n",
       "13  345000.000000000000    West Hollywood\n",
       "14  324000.000000000000        Somerville\n",
       "15  322500.000000000000          New City\n",
       "16  320000.000000000000          Thornton\n",
       "17  301000.000000000000           Kaneohe\n",
       "18  300000.000000000000          La Jolla\n",
       "19  300000.000000000000          Paterson"
      ]
     },
     "execution_count": 8,
     "metadata": {},
     "output_type": "execute_result"
    }
   ],
   "source": [
    "# Pass the SQL statement to filter data\n",
    "stmt = \"\"\"\n",
    "\n",
    "select avg(totalyearlycompensation)as Avg_salary,location_city from employee,employee_company,location\n",
    "where employee.employee_id = employee_company.employee_id and location.location_id = employee_company.location_id\n",
    "group by location_city order by Avg_salary DESC limit 20\n",
    "\n",
    "\n",
    "\"\"\"\n",
    "\n",
    "# Execute the statement and get the results\n",
    "results2 = connection.execute(stmt).fetchall()\n",
    "\n",
    "# Extract column names\n",
    "column_names = results2[0].keys()\n",
    "\n",
    "# Store results in a new dataframe\n",
    "temp_df2 = pd.DataFrame(results2, columns=column_names)\n",
    "\n",
    "# Show results\n",
    "temp_df2"
   ]
  },
  {
   "cell_type": "code",
   "execution_count": null,
   "metadata": {},
   "outputs": [],
   "source": [
    "#4 Average salary by state"
   ]
  },
  {
   "cell_type": "code",
   "execution_count": 11,
   "metadata": {},
   "outputs": [
    {
     "data": {
      "text/html": [
       "<div>\n",
       "<style scoped>\n",
       "    .dataframe tbody tr th:only-of-type {\n",
       "        vertical-align: middle;\n",
       "    }\n",
       "\n",
       "    .dataframe tbody tr th {\n",
       "        vertical-align: top;\n",
       "    }\n",
       "\n",
       "    .dataframe thead th {\n",
       "        text-align: right;\n",
       "    }\n",
       "</style>\n",
       "<table border=\"1\" class=\"dataframe\">\n",
       "  <thead>\n",
       "    <tr style=\"text-align: right;\">\n",
       "      <th></th>\n",
       "      <th>avg_salary</th>\n",
       "      <th>location_state</th>\n",
       "    </tr>\n",
       "  </thead>\n",
       "  <tbody>\n",
       "    <tr>\n",
       "      <th>0</th>\n",
       "      <td>390000.000000000000</td>\n",
       "      <td>HZ</td>\n",
       "    </tr>\n",
       "    <tr>\n",
       "      <th>1</th>\n",
       "      <td>360000.000000000000</td>\n",
       "      <td>LB</td>\n",
       "    </tr>\n",
       "    <tr>\n",
       "      <th>2</th>\n",
       "      <td>271510.756221521206</td>\n",
       "      <td>CA</td>\n",
       "    </tr>\n",
       "    <tr>\n",
       "      <th>3</th>\n",
       "      <td>249226.519337016575</td>\n",
       "      <td>ZH</td>\n",
       "    </tr>\n",
       "    <tr>\n",
       "      <th>4</th>\n",
       "      <td>245072.325671738427</td>\n",
       "      <td>WA</td>\n",
       "    </tr>\n",
       "    <tr>\n",
       "      <th>5</th>\n",
       "      <td>227358.483563096501</td>\n",
       "      <td>NY</td>\n",
       "    </tr>\n",
       "    <tr>\n",
       "      <th>6</th>\n",
       "      <td>213750.000000000000</td>\n",
       "      <td>GE</td>\n",
       "    </tr>\n",
       "    <tr>\n",
       "      <th>7</th>\n",
       "      <td>212000.000000000000</td>\n",
       "      <td>BS</td>\n",
       "    </tr>\n",
       "    <tr>\n",
       "      <th>8</th>\n",
       "      <td>194000.000000000000</td>\n",
       "      <td>HI</td>\n",
       "    </tr>\n",
       "    <tr>\n",
       "      <th>9</th>\n",
       "      <td>192501.424501424501</td>\n",
       "      <td>MA</td>\n",
       "    </tr>\n",
       "    <tr>\n",
       "      <th>10</th>\n",
       "      <td>192476.271186440678</td>\n",
       "      <td>CO</td>\n",
       "    </tr>\n",
       "    <tr>\n",
       "      <th>11</th>\n",
       "      <td>190000.000000000000</td>\n",
       "      <td>SU</td>\n",
       "    </tr>\n",
       "    <tr>\n",
       "      <th>12</th>\n",
       "      <td>189066.666666666667</td>\n",
       "      <td>DU</td>\n",
       "    </tr>\n",
       "    <tr>\n",
       "      <th>13</th>\n",
       "      <td>188000.000000000000</td>\n",
       "      <td>MK</td>\n",
       "    </tr>\n",
       "    <tr>\n",
       "      <th>14</th>\n",
       "      <td>186000.000000000000</td>\n",
       "      <td>TA</td>\n",
       "    </tr>\n",
       "    <tr>\n",
       "      <th>15</th>\n",
       "      <td>185047.095761381476</td>\n",
       "      <td>OR</td>\n",
       "    </tr>\n",
       "    <tr>\n",
       "      <th>16</th>\n",
       "      <td>182611.111111111111</td>\n",
       "      <td>GD</td>\n",
       "    </tr>\n",
       "    <tr>\n",
       "      <th>17</th>\n",
       "      <td>176000.000000000000</td>\n",
       "      <td>OU</td>\n",
       "    </tr>\n",
       "    <tr>\n",
       "      <th>18</th>\n",
       "      <td>175000.000000000000</td>\n",
       "      <td>GT</td>\n",
       "    </tr>\n",
       "    <tr>\n",
       "      <th>19</th>\n",
       "      <td>174000.000000000000</td>\n",
       "      <td>FR</td>\n",
       "    </tr>\n",
       "  </tbody>\n",
       "</table>\n",
       "</div>"
      ],
      "text/plain": [
       "             avg_salary location_state\n",
       "0   390000.000000000000             HZ\n",
       "1   360000.000000000000             LB\n",
       "2   271510.756221521206             CA\n",
       "3   249226.519337016575             ZH\n",
       "4   245072.325671738427             WA\n",
       "5   227358.483563096501             NY\n",
       "6   213750.000000000000             GE\n",
       "7   212000.000000000000             BS\n",
       "8   194000.000000000000             HI\n",
       "9   192501.424501424501             MA\n",
       "10  192476.271186440678             CO\n",
       "11  190000.000000000000             SU\n",
       "12  189066.666666666667             DU\n",
       "13  188000.000000000000             MK\n",
       "14  186000.000000000000             TA\n",
       "15  185047.095761381476             OR\n",
       "16  182611.111111111111             GD\n",
       "17  176000.000000000000             OU\n",
       "18  175000.000000000000             GT\n",
       "19  174000.000000000000             FR"
      ]
     },
     "execution_count": 11,
     "metadata": {},
     "output_type": "execute_result"
    }
   ],
   "source": [
    "# Pass the SQL statement to filter data\n",
    "stmt = \"\"\"\n",
    "\n",
    "select avg(totalyearlycompensation)as Avg_salary,location_state from employee,employee_company,location\n",
    "where employee.employee_id = employee_company.employee_id and location.location_id = employee_company.location_id\n",
    "group by location_state order by Avg_salary DESC limit 20\n",
    "\n",
    "\n",
    "\n",
    "\"\"\"\n",
    "\n",
    "# Execute the statement and get the results\n",
    "results3 = connection.execute(stmt).fetchall()\n",
    "\n",
    "# Extract column names\n",
    "column_names = results3[0].keys()\n",
    "\n",
    "# Store results in a new dataframe\n",
    "temp_df3 = pd.DataFrame(results3, columns=column_names)\n",
    "\n",
    "# Show results\n",
    "temp_df3"
   ]
  },
  {
   "cell_type": "code",
   "execution_count": null,
   "metadata": {},
   "outputs": [],
   "source": [
    "#5 Level with the highest salary"
   ]
  },
  {
   "cell_type": "code",
   "execution_count": 12,
   "metadata": {},
   "outputs": [
    {
     "data": {
      "text/html": [
       "<div>\n",
       "<style scoped>\n",
       "    .dataframe tbody tr th:only-of-type {\n",
       "        vertical-align: middle;\n",
       "    }\n",
       "\n",
       "    .dataframe tbody tr th {\n",
       "        vertical-align: top;\n",
       "    }\n",
       "\n",
       "    .dataframe thead th {\n",
       "        text-align: right;\n",
       "    }\n",
       "</style>\n",
       "<table border=\"1\" class=\"dataframe\">\n",
       "  <thead>\n",
       "    <tr style=\"text-align: right;\">\n",
       "      <th></th>\n",
       "      <th>max_salary</th>\n",
       "      <th>company</th>\n",
       "      <th>level</th>\n",
       "    </tr>\n",
       "  </thead>\n",
       "  <tbody>\n",
       "    <tr>\n",
       "      <th>0</th>\n",
       "      <td>4980000</td>\n",
       "      <td>Facebook</td>\n",
       "      <td>E9</td>\n",
       "    </tr>\n",
       "    <tr>\n",
       "      <th>1</th>\n",
       "      <td>4950000</td>\n",
       "      <td>Microsoft</td>\n",
       "      <td>80</td>\n",
       "    </tr>\n",
       "    <tr>\n",
       "      <th>2</th>\n",
       "      <td>4500000</td>\n",
       "      <td>Google</td>\n",
       "      <td>L10</td>\n",
       "    </tr>\n",
       "    <tr>\n",
       "      <th>3</th>\n",
       "      <td>2500000</td>\n",
       "      <td>Snap</td>\n",
       "      <td>L8</td>\n",
       "    </tr>\n",
       "    <tr>\n",
       "      <th>4</th>\n",
       "      <td>2372000</td>\n",
       "      <td>Facebook</td>\n",
       "      <td>D1</td>\n",
       "    </tr>\n",
       "    <tr>\n",
       "      <th>...</th>\n",
       "      <td>...</td>\n",
       "      <td>...</td>\n",
       "      <td>...</td>\n",
       "    </tr>\n",
       "    <tr>\n",
       "      <th>13543</th>\n",
       "      <td>10000</td>\n",
       "      <td>Bank of America Merrill Lynch</td>\n",
       "      <td>H7</td>\n",
       "    </tr>\n",
       "    <tr>\n",
       "      <th>13544</th>\n",
       "      <td>10000</td>\n",
       "      <td>Infosys</td>\n",
       "      <td>Fresher</td>\n",
       "    </tr>\n",
       "    <tr>\n",
       "      <th>13545</th>\n",
       "      <td>10000</td>\n",
       "      <td>Andela</td>\n",
       "      <td>2</td>\n",
       "    </tr>\n",
       "    <tr>\n",
       "      <th>13546</th>\n",
       "      <td>10000</td>\n",
       "      <td>Virtusa</td>\n",
       "      <td>Entry</td>\n",
       "    </tr>\n",
       "    <tr>\n",
       "      <th>13547</th>\n",
       "      <td>10000</td>\n",
       "      <td>Microsoft</td>\n",
       "      <td>SDE I</td>\n",
       "    </tr>\n",
       "  </tbody>\n",
       "</table>\n",
       "<p>13548 rows × 3 columns</p>\n",
       "</div>"
      ],
      "text/plain": [
       "      max_salary                        company    level\n",
       "0        4980000                       Facebook       E9\n",
       "1        4950000                      Microsoft       80\n",
       "2        4500000                         Google      L10\n",
       "3        2500000                           Snap       L8\n",
       "4        2372000                       Facebook       D1\n",
       "...          ...                            ...      ...\n",
       "13543      10000  Bank of America Merrill Lynch       H7\n",
       "13544      10000                        Infosys  Fresher\n",
       "13545      10000                         Andela        2\n",
       "13546      10000                        Virtusa    Entry\n",
       "13547      10000                      Microsoft    SDE I\n",
       "\n",
       "[13548 rows x 3 columns]"
      ]
     },
     "execution_count": 12,
     "metadata": {},
     "output_type": "execute_result"
    }
   ],
   "source": [
    "# Pass the SQL statement to filter data\n",
    "stmt = \"\"\"\n",
    "\n",
    "select max(totalyearlycompensation)as max_salary,company,level from employee,employee_level,level,company,employee_company\n",
    "where employee.employee_id = employee_level.employee_id and level.level_id = employee_level.level_id and\n",
    "employee.employee_id=employee_company.employee_id and company.company_id = employee_company.company_id\n",
    "group by level,company order by max_salary DESC \n",
    "\n",
    "\n",
    "\"\"\"\n",
    "\n",
    "# Execute the statement and get the results\n",
    "results4 = connection.execute(stmt).fetchall()\n",
    "\n",
    "# Extract column names\n",
    "column_names = results4[0].keys()\n",
    "\n",
    "# Store results in a new dataframe\n",
    "temp_df4 = pd.DataFrame(results4, columns=column_names)\n",
    "\n",
    "# Show results\n",
    "temp_df4"
   ]
  },
  {
   "cell_type": "code",
   "execution_count": null,
   "metadata": {},
   "outputs": [],
   "source": [
    "#6 Data Scientist salary by the company and average working exp"
   ]
  },
  {
   "cell_type": "code",
   "execution_count": 13,
   "metadata": {},
   "outputs": [
    {
     "data": {
      "text/html": [
       "<div>\n",
       "<style scoped>\n",
       "    .dataframe tbody tr th:only-of-type {\n",
       "        vertical-align: middle;\n",
       "    }\n",
       "\n",
       "    .dataframe tbody tr th {\n",
       "        vertical-align: top;\n",
       "    }\n",
       "\n",
       "    .dataframe thead th {\n",
       "        text-align: right;\n",
       "    }\n",
       "</style>\n",
       "<table border=\"1\" class=\"dataframe\">\n",
       "  <thead>\n",
       "    <tr style=\"text-align: right;\">\n",
       "      <th></th>\n",
       "      <th>avg_salary</th>\n",
       "      <th>avg_exp</th>\n",
       "      <th>company</th>\n",
       "    </tr>\n",
       "  </thead>\n",
       "  <tbody>\n",
       "    <tr>\n",
       "      <th>0</th>\n",
       "      <td>556000.000000000000</td>\n",
       "      <td>3.0000000000000000</td>\n",
       "      <td>LivePerson</td>\n",
       "    </tr>\n",
       "    <tr>\n",
       "      <th>1</th>\n",
       "      <td>494000.000000000000</td>\n",
       "      <td>8.5000000000000000</td>\n",
       "      <td>Roblox</td>\n",
       "    </tr>\n",
       "    <tr>\n",
       "      <th>2</th>\n",
       "      <td>484100.000000000000</td>\n",
       "      <td>5.9000000000000000</td>\n",
       "      <td>Netflix</td>\n",
       "    </tr>\n",
       "    <tr>\n",
       "      <th>3</th>\n",
       "      <td>477000.000000000000</td>\n",
       "      <td>4.0000000000000000</td>\n",
       "      <td>Slack</td>\n",
       "    </tr>\n",
       "    <tr>\n",
       "      <th>4</th>\n",
       "      <td>421200.000000000000</td>\n",
       "      <td>7.1000000000000000</td>\n",
       "      <td>Instacart</td>\n",
       "    </tr>\n",
       "    <tr>\n",
       "      <th>...</th>\n",
       "      <td>...</td>\n",
       "      <td>...</td>\n",
       "      <td>...</td>\n",
       "    </tr>\n",
       "    <tr>\n",
       "      <th>462</th>\n",
       "      <td>25000.000000000000</td>\n",
       "      <td>5.0000000000000000</td>\n",
       "      <td>GE</td>\n",
       "    </tr>\n",
       "    <tr>\n",
       "      <th>463</th>\n",
       "      <td>25000.000000000000</td>\n",
       "      <td>6.0000000000000000</td>\n",
       "      <td>Sony</td>\n",
       "    </tr>\n",
       "    <tr>\n",
       "      <th>464</th>\n",
       "      <td>23000.000000000000</td>\n",
       "      <td>8.0000000000000000</td>\n",
       "      <td>GlobalLogic</td>\n",
       "    </tr>\n",
       "    <tr>\n",
       "      <th>465</th>\n",
       "      <td>16000.0000000000000000</td>\n",
       "      <td>1.00000000000000000000</td>\n",
       "      <td>ZS Associates</td>\n",
       "    </tr>\n",
       "    <tr>\n",
       "      <th>466</th>\n",
       "      <td>11000.0000000000000000</td>\n",
       "      <td>1.00000000000000000000</td>\n",
       "      <td>Quantiphi</td>\n",
       "    </tr>\n",
       "  </tbody>\n",
       "</table>\n",
       "<p>467 rows × 3 columns</p>\n",
       "</div>"
      ],
      "text/plain": [
       "                 avg_salary                 avg_exp        company\n",
       "0       556000.000000000000      3.0000000000000000     LivePerson\n",
       "1       494000.000000000000      8.5000000000000000         Roblox\n",
       "2       484100.000000000000      5.9000000000000000        Netflix\n",
       "3       477000.000000000000      4.0000000000000000          Slack\n",
       "4       421200.000000000000      7.1000000000000000      Instacart\n",
       "..                      ...                     ...            ...\n",
       "462      25000.000000000000      5.0000000000000000             GE\n",
       "463      25000.000000000000      6.0000000000000000           Sony\n",
       "464      23000.000000000000      8.0000000000000000    GlobalLogic\n",
       "465  16000.0000000000000000  1.00000000000000000000  ZS Associates\n",
       "466  11000.0000000000000000  1.00000000000000000000      Quantiphi\n",
       "\n",
       "[467 rows x 3 columns]"
      ]
     },
     "execution_count": 13,
     "metadata": {},
     "output_type": "execute_result"
    }
   ],
   "source": [
    "# Pass the SQL statement to filter data\n",
    "stmt = \"\"\"\n",
    "\n",
    "select avg(totalyearlycompensation)as Avg_salary,avg(years_experience)as Avg_exp,company from \n",
    "employee,employee_company,company,employee_title,title,employee_qualification\n",
    "where employee.employee_id = employee_company.employee_id and company.company_id = employee_company.company_id \n",
    "and employee.employee_id = employee_qualification.employee_id\n",
    "and title.title_id = employee_title.title_id and employee.employee_id=employee_title.employee_id and title='Data Scientist'  \n",
    "group by company order by Avg_salary DESC\n",
    "\n",
    "\n",
    "\"\"\"\n",
    "\n",
    "# Execute the statement and get the results\n",
    "results5 = connection.execute(stmt).fetchall()\n",
    "\n",
    "# Extract column names\n",
    "column_names = results5[0].keys()\n",
    "\n",
    "# Store results in a new dataframe\n",
    "temp_df5 = pd.DataFrame(results5, columns=column_names)\n",
    "\n",
    "# Show results\n",
    "temp_df5"
   ]
  },
  {
   "cell_type": "code",
   "execution_count": null,
   "metadata": {},
   "outputs": [],
   "source": [
    "#7 Data scientist salary by working experience"
   ]
  },
  {
   "cell_type": "code",
   "execution_count": 14,
   "metadata": {},
   "outputs": [
    {
     "data": {
      "text/html": [
       "<div>\n",
       "<style scoped>\n",
       "    .dataframe tbody tr th:only-of-type {\n",
       "        vertical-align: middle;\n",
       "    }\n",
       "\n",
       "    .dataframe tbody tr th {\n",
       "        vertical-align: top;\n",
       "    }\n",
       "\n",
       "    .dataframe thead th {\n",
       "        text-align: right;\n",
       "    }\n",
       "</style>\n",
       "<table border=\"1\" class=\"dataframe\">\n",
       "  <thead>\n",
       "    <tr style=\"text-align: right;\">\n",
       "      <th></th>\n",
       "      <th>avg_salary</th>\n",
       "      <th>years_experience</th>\n",
       "    </tr>\n",
       "  </thead>\n",
       "  <tbody>\n",
       "    <tr>\n",
       "      <th>0</th>\n",
       "      <td>477500.000000000000</td>\n",
       "      <td>22</td>\n",
       "    </tr>\n",
       "    <tr>\n",
       "      <th>1</th>\n",
       "      <td>380000.000000000000</td>\n",
       "      <td>30</td>\n",
       "    </tr>\n",
       "    <tr>\n",
       "      <th>2</th>\n",
       "      <td>337880.952380952381</td>\n",
       "      <td>12</td>\n",
       "    </tr>\n",
       "    <tr>\n",
       "      <th>3</th>\n",
       "      <td>313000.000000000000</td>\n",
       "      <td>21</td>\n",
       "    </tr>\n",
       "    <tr>\n",
       "      <th>4</th>\n",
       "      <td>303166.666666666667</td>\n",
       "      <td>17</td>\n",
       "    </tr>\n",
       "    <tr>\n",
       "      <th>5</th>\n",
       "      <td>300888.888888888889</td>\n",
       "      <td>16</td>\n",
       "    </tr>\n",
       "    <tr>\n",
       "      <th>6</th>\n",
       "      <td>300000.000000000000</td>\n",
       "      <td>19</td>\n",
       "    </tr>\n",
       "    <tr>\n",
       "      <th>7</th>\n",
       "      <td>289619.047619047619</td>\n",
       "      <td>20</td>\n",
       "    </tr>\n",
       "    <tr>\n",
       "      <th>8</th>\n",
       "      <td>283756.756756756757</td>\n",
       "      <td>11</td>\n",
       "    </tr>\n",
       "    <tr>\n",
       "      <th>9</th>\n",
       "      <td>276111.111111111111</td>\n",
       "      <td>15</td>\n",
       "    </tr>\n",
       "    <tr>\n",
       "      <th>10</th>\n",
       "      <td>272360.000000000000</td>\n",
       "      <td>13</td>\n",
       "    </tr>\n",
       "    <tr>\n",
       "      <th>11</th>\n",
       "      <td>265886.363636363636</td>\n",
       "      <td>10</td>\n",
       "    </tr>\n",
       "    <tr>\n",
       "      <th>12</th>\n",
       "      <td>260937.500000000000</td>\n",
       "      <td>9</td>\n",
       "    </tr>\n",
       "    <tr>\n",
       "      <th>13</th>\n",
       "      <td>253750.000000000000</td>\n",
       "      <td>25</td>\n",
       "    </tr>\n",
       "    <tr>\n",
       "      <th>14</th>\n",
       "      <td>237185.483870967742</td>\n",
       "      <td>8</td>\n",
       "    </tr>\n",
       "    <tr>\n",
       "      <th>15</th>\n",
       "      <td>236851.063829787234</td>\n",
       "      <td>7</td>\n",
       "    </tr>\n",
       "    <tr>\n",
       "      <th>16</th>\n",
       "      <td>231866.666666666667</td>\n",
       "      <td>14</td>\n",
       "    </tr>\n",
       "    <tr>\n",
       "      <th>17</th>\n",
       "      <td>223250.000000000000</td>\n",
       "      <td>18</td>\n",
       "    </tr>\n",
       "    <tr>\n",
       "      <th>18</th>\n",
       "      <td>218943.820224719101</td>\n",
       "      <td>6</td>\n",
       "    </tr>\n",
       "    <tr>\n",
       "      <th>19</th>\n",
       "      <td>212500.000000000000</td>\n",
       "      <td>23</td>\n",
       "    </tr>\n",
       "    <tr>\n",
       "      <th>20</th>\n",
       "      <td>210629.737609329446</td>\n",
       "      <td>5</td>\n",
       "    </tr>\n",
       "    <tr>\n",
       "      <th>21</th>\n",
       "      <td>200000.000000000000</td>\n",
       "      <td>34</td>\n",
       "    </tr>\n",
       "    <tr>\n",
       "      <th>22</th>\n",
       "      <td>193461.794019933555</td>\n",
       "      <td>4</td>\n",
       "    </tr>\n",
       "    <tr>\n",
       "      <th>23</th>\n",
       "      <td>174398.089171974522</td>\n",
       "      <td>3</td>\n",
       "    </tr>\n",
       "    <tr>\n",
       "      <th>24</th>\n",
       "      <td>165113.960113960114</td>\n",
       "      <td>2</td>\n",
       "    </tr>\n",
       "    <tr>\n",
       "      <th>25</th>\n",
       "      <td>161626.315789473684</td>\n",
       "      <td>0</td>\n",
       "    </tr>\n",
       "    <tr>\n",
       "      <th>26</th>\n",
       "      <td>150485.981308411215</td>\n",
       "      <td>1</td>\n",
       "    </tr>\n",
       "    <tr>\n",
       "      <th>27</th>\n",
       "      <td>144000.000000000000</td>\n",
       "      <td>26</td>\n",
       "    </tr>\n",
       "  </tbody>\n",
       "</table>\n",
       "</div>"
      ],
      "text/plain": [
       "             avg_salary  years_experience\n",
       "0   477500.000000000000                22\n",
       "1   380000.000000000000                30\n",
       "2   337880.952380952381                12\n",
       "3   313000.000000000000                21\n",
       "4   303166.666666666667                17\n",
       "5   300888.888888888889                16\n",
       "6   300000.000000000000                19\n",
       "7   289619.047619047619                20\n",
       "8   283756.756756756757                11\n",
       "9   276111.111111111111                15\n",
       "10  272360.000000000000                13\n",
       "11  265886.363636363636                10\n",
       "12  260937.500000000000                 9\n",
       "13  253750.000000000000                25\n",
       "14  237185.483870967742                 8\n",
       "15  236851.063829787234                 7\n",
       "16  231866.666666666667                14\n",
       "17  223250.000000000000                18\n",
       "18  218943.820224719101                 6\n",
       "19  212500.000000000000                23\n",
       "20  210629.737609329446                 5\n",
       "21  200000.000000000000                34\n",
       "22  193461.794019933555                 4\n",
       "23  174398.089171974522                 3\n",
       "24  165113.960113960114                 2\n",
       "25  161626.315789473684                 0\n",
       "26  150485.981308411215                 1\n",
       "27  144000.000000000000                26"
      ]
     },
     "execution_count": 14,
     "metadata": {},
     "output_type": "execute_result"
    }
   ],
   "source": [
    "# Pass the SQL statement to filter data\n",
    "stmt = \"\"\"\n",
    "\n",
    "select avg(totalyearlycompensation)as Avg_salary,years_experience from employee,employee_title,title,employee_qualification\n",
    "where employee.employee_id = employee_qualification.employee_id and employee.employee_id=employee_title.employee_id\n",
    "and title.title_id = employee_title.title_id and title='Data Scientist' \n",
    "group by years_experience order by Avg_salary DESC\n",
    "\n",
    "\n",
    "\n",
    "\"\"\"\n",
    "\n",
    "# Execute the statement and get the results\n",
    "results6 = connection.execute(stmt).fetchall()\n",
    "\n",
    "# Extract column names\n",
    "column_names = results6[0].keys()\n",
    "\n",
    "# Store results in a new dataframe\n",
    "temp_df6 = pd.DataFrame(results6, columns=column_names)\n",
    "\n",
    "# Show results\n",
    "temp_df6"
   ]
  },
  {
   "cell_type": "code",
   "execution_count": null,
   "metadata": {},
   "outputs": [],
   "source": [
    "#8 data scientist salary by tag"
   ]
  },
  {
   "cell_type": "code",
   "execution_count": 15,
   "metadata": {},
   "outputs": [
    {
     "data": {
      "text/html": [
       "<div>\n",
       "<style scoped>\n",
       "    .dataframe tbody tr th:only-of-type {\n",
       "        vertical-align: middle;\n",
       "    }\n",
       "\n",
       "    .dataframe tbody tr th {\n",
       "        vertical-align: top;\n",
       "    }\n",
       "\n",
       "    .dataframe thead th {\n",
       "        text-align: right;\n",
       "    }\n",
       "</style>\n",
       "<table border=\"1\" class=\"dataframe\">\n",
       "  <thead>\n",
       "    <tr style=\"text-align: right;\">\n",
       "      <th></th>\n",
       "      <th>avg_salary</th>\n",
       "      <th>tag</th>\n",
       "    </tr>\n",
       "  </thead>\n",
       "  <tbody>\n",
       "    <tr>\n",
       "      <th>0</th>\n",
       "      <td>757000.000000000000</td>\n",
       "      <td>ML, AI</td>\n",
       "    </tr>\n",
       "    <tr>\n",
       "      <th>1</th>\n",
       "      <td>700000.000000000000</td>\n",
       "      <td>Product Data Science</td>\n",
       "    </tr>\n",
       "    <tr>\n",
       "      <th>2</th>\n",
       "      <td>630000.000000000000</td>\n",
       "      <td>Content</td>\n",
       "    </tr>\n",
       "    <tr>\n",
       "      <th>3</th>\n",
       "      <td>592000.000000000000</td>\n",
       "      <td>ML/Analytics</td>\n",
       "    </tr>\n",
       "    <tr>\n",
       "      <th>4</th>\n",
       "      <td>578000.000000000000</td>\n",
       "      <td>ml</td>\n",
       "    </tr>\n",
       "    <tr>\n",
       "      <th>...</th>\n",
       "      <td>...</td>\n",
       "      <td>...</td>\n",
       "    </tr>\n",
       "    <tr>\n",
       "      <th>332</th>\n",
       "      <td>29000.000000000000</td>\n",
       "      <td>SAP</td>\n",
       "    </tr>\n",
       "    <tr>\n",
       "      <th>333</th>\n",
       "      <td>29000.000000000000</td>\n",
       "      <td>Recommender Systems</td>\n",
       "    </tr>\n",
       "    <tr>\n",
       "      <th>334</th>\n",
       "      <td>22500.000000000000</td>\n",
       "      <td>Python</td>\n",
       "    </tr>\n",
       "    <tr>\n",
       "      <th>335</th>\n",
       "      <td>20000.000000000000</td>\n",
       "      <td>BixBy</td>\n",
       "    </tr>\n",
       "    <tr>\n",
       "      <th>336</th>\n",
       "      <td>17000.0000000000000000</td>\n",
       "      <td>Python, BI</td>\n",
       "    </tr>\n",
       "  </tbody>\n",
       "</table>\n",
       "<p>337 rows × 2 columns</p>\n",
       "</div>"
      ],
      "text/plain": [
       "                 avg_salary                   tag\n",
       "0       757000.000000000000                ML, AI\n",
       "1       700000.000000000000  Product Data Science\n",
       "2       630000.000000000000               Content\n",
       "3       592000.000000000000          ML/Analytics\n",
       "4       578000.000000000000                    ml\n",
       "..                      ...                   ...\n",
       "332      29000.000000000000                   SAP\n",
       "333      29000.000000000000   Recommender Systems\n",
       "334      22500.000000000000                Python\n",
       "335      20000.000000000000                 BixBy\n",
       "336  17000.0000000000000000            Python, BI\n",
       "\n",
       "[337 rows x 2 columns]"
      ]
     },
     "execution_count": 15,
     "metadata": {},
     "output_type": "execute_result"
    }
   ],
   "source": [
    "# Pass the SQL statement to filter data\n",
    "stmt = \"\"\"\n",
    "\n",
    "select avg(totalyearlycompensation)as Avg_salary,tag from employee,employee_title,title,employee_specialization,specialization\n",
    "where employee.employee_id = employee_specialization.employee_id and employee_specialization.tag_id=specialization.tag_id\n",
    "and title.title_id = employee_title.title_id and employee.employee_id=employee_title.employee_id and title='Data Scientist'  \n",
    "group by tag order by Avg_salary DESC\n",
    "\n",
    "\n",
    "\n",
    "\"\"\"\n",
    "\n",
    "# Execute the statement and get the results\n",
    "results7 = connection.execute(stmt).fetchall()\n",
    "\n",
    "# Extract column names\n",
    "column_names = results7[0].keys()\n",
    "\n",
    "# Store results in a new dataframe\n",
    "temp_df7 = pd.DataFrame(results7, columns=column_names)\n",
    "\n",
    "# Show results\n",
    "temp_df7"
   ]
  },
  {
   "cell_type": "code",
   "execution_count": null,
   "metadata": {},
   "outputs": [],
   "source": [
    "#9 Data Scientist salary Man VS women"
   ]
  },
  {
   "cell_type": "code",
   "execution_count": 16,
   "metadata": {},
   "outputs": [
    {
     "data": {
      "text/html": [
       "<div>\n",
       "<style scoped>\n",
       "    .dataframe tbody tr th:only-of-type {\n",
       "        vertical-align: middle;\n",
       "    }\n",
       "\n",
       "    .dataframe tbody tr th {\n",
       "        vertical-align: top;\n",
       "    }\n",
       "\n",
       "    .dataframe thead th {\n",
       "        text-align: right;\n",
       "    }\n",
       "</style>\n",
       "<table border=\"1\" class=\"dataframe\">\n",
       "  <thead>\n",
       "    <tr style=\"text-align: right;\">\n",
       "      <th></th>\n",
       "      <th>avg_salary</th>\n",
       "      <th>gender</th>\n",
       "    </tr>\n",
       "  </thead>\n",
       "  <tbody>\n",
       "    <tr>\n",
       "      <th>0</th>\n",
       "      <td>268181.818181818182</td>\n",
       "      <td>Other</td>\n",
       "    </tr>\n",
       "    <tr>\n",
       "      <th>1</th>\n",
       "      <td>210326.968973747017</td>\n",
       "      <td>Unknown</td>\n",
       "    </tr>\n",
       "    <tr>\n",
       "      <th>2</th>\n",
       "      <td>202107.590272660280</td>\n",
       "      <td>Male</td>\n",
       "    </tr>\n",
       "    <tr>\n",
       "      <th>3</th>\n",
       "      <td>190063.711911357341</td>\n",
       "      <td>Female</td>\n",
       "    </tr>\n",
       "  </tbody>\n",
       "</table>\n",
       "</div>"
      ],
      "text/plain": [
       "            avg_salary   gender\n",
       "0  268181.818181818182    Other\n",
       "1  210326.968973747017  Unknown\n",
       "2  202107.590272660280     Male\n",
       "3  190063.711911357341   Female"
      ]
     },
     "execution_count": 16,
     "metadata": {},
     "output_type": "execute_result"
    }
   ],
   "source": [
    "# Pass the SQL statement to filter data\n",
    "stmt = \"\"\"\n",
    "\n",
    "select avg(totalyearlycompensation)as Avg_salary,gender from employee,employee_title,title,employee_demographics\n",
    "where title.title_id = employee_title.title_id and employee.employee_id=employee_title.employee_id and title='Data Scientist' \n",
    "and employee_demographics.employee_id=employee.employee_id\n",
    "group by gender order by Avg_salary DESC\n",
    "\n",
    "\n",
    "\n",
    "\"\"\"\n",
    "\n",
    "# Execute the statement and get the results\n",
    "results8 = connection.execute(stmt).fetchall()\n",
    "\n",
    "# Extract column names\n",
    "column_names = results8[0].keys()\n",
    "\n",
    "# Store results in a new dataframe\n",
    "temp_df8 = pd.DataFrame(results8, columns=column_names)\n",
    "\n",
    "# Show results\n",
    "temp_df8"
   ]
  },
  {
   "cell_type": "code",
   "execution_count": null,
   "metadata": {},
   "outputs": [],
   "source": [
    "#10 Data Scientist salary race"
   ]
  },
  {
   "cell_type": "code",
   "execution_count": 17,
   "metadata": {},
   "outputs": [
    {
     "data": {
      "text/html": [
       "<div>\n",
       "<style scoped>\n",
       "    .dataframe tbody tr th:only-of-type {\n",
       "        vertical-align: middle;\n",
       "    }\n",
       "\n",
       "    .dataframe tbody tr th {\n",
       "        vertical-align: top;\n",
       "    }\n",
       "\n",
       "    .dataframe thead th {\n",
       "        text-align: right;\n",
       "    }\n",
       "</style>\n",
       "<table border=\"1\" class=\"dataframe\">\n",
       "  <thead>\n",
       "    <tr style=\"text-align: right;\">\n",
       "      <th></th>\n",
       "      <th>avg_salary</th>\n",
       "      <th>race</th>\n",
       "    </tr>\n",
       "  </thead>\n",
       "  <tbody>\n",
       "    <tr>\n",
       "      <th>0</th>\n",
       "      <td>210321.428571428571</td>\n",
       "      <td>Two Or More</td>\n",
       "    </tr>\n",
       "    <tr>\n",
       "      <th>1</th>\n",
       "      <td>209388.591800356506</td>\n",
       "      <td>Unknown</td>\n",
       "    </tr>\n",
       "    <tr>\n",
       "      <th>2</th>\n",
       "      <td>200350.157728706625</td>\n",
       "      <td>White</td>\n",
       "    </tr>\n",
       "    <tr>\n",
       "      <th>3</th>\n",
       "      <td>188524.752475247525</td>\n",
       "      <td>Asian</td>\n",
       "    </tr>\n",
       "    <tr>\n",
       "      <th>4</th>\n",
       "      <td>184593.750000000000</td>\n",
       "      <td>Hispanic</td>\n",
       "    </tr>\n",
       "    <tr>\n",
       "      <th>5</th>\n",
       "      <td>162615.384615384615</td>\n",
       "      <td>Black</td>\n",
       "    </tr>\n",
       "  </tbody>\n",
       "</table>\n",
       "</div>"
      ],
      "text/plain": [
       "            avg_salary         race\n",
       "0  210321.428571428571  Two Or More\n",
       "1  209388.591800356506      Unknown\n",
       "2  200350.157728706625        White\n",
       "3  188524.752475247525        Asian\n",
       "4  184593.750000000000     Hispanic\n",
       "5  162615.384615384615        Black"
      ]
     },
     "execution_count": 17,
     "metadata": {},
     "output_type": "execute_result"
    }
   ],
   "source": [
    "# Pass the SQL statement to filter data\n",
    "stmt = \"\"\"\n",
    "\n",
    "select avg(totalyearlycompensation)as Avg_salary,race from employee,employee_title,title,employee_demographics\n",
    "where title.title_id = employee_title.title_id and employee.employee_id=employee_title.employee_id and title='Data Scientist' \n",
    "and employee_demographics.employee_id=employee.employee_id\n",
    "group by race order by Avg_salary DESC\n",
    "\n",
    "\n",
    "\n",
    "\"\"\"\n",
    "\n",
    "# Execute the statement and get the results\n",
    "results9 = connection.execute(stmt).fetchall()\n",
    "\n",
    "# Extract column names\n",
    "column_names = results9[0].keys()\n",
    "\n",
    "# Store results in a new dataframe\n",
    "temp_df9 = pd.DataFrame(results9, columns=column_names)\n",
    "\n",
    "# Show results\n",
    "temp_df9"
   ]
  },
  {
   "cell_type": "code",
   "execution_count": null,
   "metadata": {},
   "outputs": [],
   "source": []
  }
 ],
 "metadata": {
  "kernelspec": {
   "display_name": "Python 3",
   "language": "python",
   "name": "python3"
  },
  "language_info": {
   "codemirror_mode": {
    "name": "ipython",
    "version": 3
   },
   "file_extension": ".py",
   "mimetype": "text/x-python",
   "name": "python",
   "nbconvert_exporter": "python",
   "pygments_lexer": "ipython3",
   "version": "3.8.3"
  }
 },
 "nbformat": 4,
 "nbformat_minor": 5
}
